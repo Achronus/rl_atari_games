{
 "cells": [
  {
   "cell_type": "markdown",
   "id": "ed87b53b-9602-4c27-ba3f-d9d40ff4279a",
   "metadata": {},
   "source": [
    "# Reinforcement Learning with Atari Games"
   ]
  },
  {
   "cell_type": "markdown",
   "id": "8358a897-8d76-47f7-b620-460de922bfc9",
   "metadata": {},
   "source": [
    "This notebook acts as a demo application for researchers and developers that want to run DQN and PPO algorithms with (or without) Curiosity and Empowerment Intrinsic Motivation (IM).\n",
    "\n",
    "[User flowchart](../imgs/user-flowchart.png)\n",
    "\n",
    "It focuses on a six stage process outlined below:\n",
    "1. [Hyperparameter setup](#1.-Hyperparameter-Setup)\n",
    "2. [Creating a model](#2.-Model-Creation)\n",
    "3. [Training a model](#3.-Model-Training)\n",
    "4. [Loading a model](#4.-Load-Model)\n",
    "5. [Validating models](#5.-Model-Validation)\n",
    "6. [Improving models](#6.-Improving-Models)"
   ]
  },
  {
   "cell_type": "markdown",
   "id": "8a621639-4192-4fce-895e-14b335bfe7ff",
   "metadata": {},
   "source": [
    "## 1. Hyperparameter Setup"
   ]
  },
  {
   "cell_type": "markdown",
   "id": "9229c37b-a0ad-41e0-8fc7-a83744339131",
   "metadata": {},
   "source": [
    "Hyperparameters are defined in a YAML file stored in the root directory. The default file name is `parameters.yaml`, however, custom filenames are suppliable into the `custom_models()` function (refer to section 2). The hyperparameters must follow the template format as defined in the `core/template.yaml` file. \n",
    "\n",
    "Please note: not all parameters are required, they depend on the type of model and IM methods you are using.\n",
    "\n",
    "Below shows an example of accessing `utility parameters` (ones not defined in the core template)."
   ]
  },
  {
   "cell_type": "code",
   "execution_count": 1,
   "id": "9380453d-9c2b-41fb-b9f3-b7d739143812",
   "metadata": {},
   "outputs": [],
   "source": [
    "from core.create import get_utility_params\n",
    "\n",
    "import warnings\n",
    "warnings.filterwarnings(\"ignore\", category=DeprecationWarning)"
   ]
  },
  {
   "cell_type": "code",
   "execution_count": 2,
   "id": "4292c565-0b2d-45ed-98bf-4b43d7cb5824",
   "metadata": {},
   "outputs": [
    {
     "name": "stdout",
     "output_type": "stream",
     "text": [
      "{'env_3': 'ALE/MontezumaRevenge-v5', 'num_episodes': 100000, 'save_every': 10000, 'env_2': 'ALE/Qbert-v5'}\n",
      "NUM_EPISODES=100000, SAVE_EVERY=10000\n",
      "env2=ALE/Qbert-v5, env3=ALE/MontezumaRevenge-v5\n"
     ]
    }
   ],
   "source": [
    "# Get utility parameters from yaml file\n",
    "util_params = get_utility_params()\n",
    "print(util_params)\n",
    "\n",
    "# Set them as hyperparameters\n",
    "NUM_EPISODES = util_params['num_episodes']\n",
    "SAVE_EVERY = util_params['save_every']\n",
    "print(f'NUM_EPISODES={NUM_EPISODES}, SAVE_EVERY={SAVE_EVERY}')\n",
    "\n",
    "env2 = util_params['env_2']\n",
    "env3 = util_params['env_3']\n",
    "print(f'env2={env2}, env3={env3}')"
   ]
  },
  {
   "cell_type": "markdown",
   "id": "0da63c80-1fd1-4579-b18a-d5fa6c20f1a0",
   "metadata": {},
   "source": [
    "## 2. Model Creation"
   ]
  },
  {
   "cell_type": "markdown",
   "id": "7cc086be-f45d-4438-81ce-06d79f8094b7",
   "metadata": {},
   "source": [
    "Firstly, we set the device that the model is loaded onto. This can be either a GPU (`cuda:[id]`) or CPU (`cpu`). By default, it will automatically select the best device for your system. If multiple GPU's are available, it will only select one of the GPU's that are over a provided threshold (default is 2GB). For more information on the `set_device()` function, see below:\n",
    "\n",
    "_Function_: `set_device(device: str = None, threshold: float = 2e9)` <br>\n",
    "_Parameters_:<br>\n",
    "    &nbsp;&nbsp;1. `device` - an (optional) string value that defines a predetermined CUDA device to use. E.g., `cpu` or `cuda:0` for first GPU device.<br>\n",
    "    &nbsp;&nbsp;2. `threshold` - an (optional) float value that acts as an acceptance threshold for GPU devices. When provided, a GPU will only be loaded with enough space specified by this threshold.<br>\n",
    "_Returns_: a string of the CUDA device."
   ]
  },
  {
   "cell_type": "code",
   "execution_count": 3,
   "id": "f7aea6b3-9830-4fad-bf83-b695cfb1901a",
   "metadata": {},
   "outputs": [
    {
     "name": "stdout",
     "output_type": "stream",
     "text": [
      "CUDA available. Device set to GPU -> 'cuda:0'.\n"
     ]
    }
   ],
   "source": [
    "from utils.helper import set_device\n",
    "\n",
    "device = set_device()"
   ]
  },
  {
   "cell_type": "markdown",
   "id": "0250f1af-bd02-4509-9a21-9fb3fb5f45e5",
   "metadata": {},
   "source": [
    "Next, we create the model itself using the `create_model()` function from the `core.create` package. \n",
    "\n",
    "_Function_: `create_model(model_type: str, env: str = 'primary', device: str = None, filename: str = 'parameters', im_type: str = None)`<br>\n",
    "_Parameters_:<br>\n",
    "    &nbsp;&nbsp;1. `model_type` - a string value containing the name of the model to create. Options: `['dqn', 'ppo', 'rainbow']`<br>\n",
    "    &nbsp;&nbsp;2. `env` - a string value denoting the Gym environment name. Defaults to `primary` which dynamically retrieves the `env_name` from the `parameters.yaml` file.<br>\n",
    "    &nbsp;&nbsp;3. `device` - a string value representing the CUDA device to load the model onto.<br>\n",
    "    &nbsp;&nbsp;4. `filename` - an (optional) string value for the YAML file that contains the hyperparmeters. Defaults to `parameters`.<br>\n",
    "    &nbsp;&nbsp;5. `im_type` - a string value for the type of intrinisic motivation to use. Options: `[None, 'curiosity', 'empowerment']`. Defaults to `None`.<br>\n",
    "_Returns_: a model of the specified `model_type`."
   ]
  },
  {
   "cell_type": "code",
   "execution_count": 4,
   "id": "8fea7feb-9962-4338-aa41-7c6dac69a673",
   "metadata": {},
   "outputs": [],
   "source": [
    "from core.create import create_model\n",
    "\n",
    "dqn = create_model('dqn', env='primary', device=device)\n",
    "ppo = create_model('ppo', env=env3, device=device, im_type='curiosity')"
   ]
  },
  {
   "cell_type": "markdown",
   "id": "613abb1d-5264-48fa-bae9-0c11a6d0f1ba",
   "metadata": {},
   "source": [
    "For debugging purposes, certain attributes are accessible.\n",
    "\n",
    "All models: `[env_details, params, device, seed, logger, im_type, im_method, optimizer, loss]`<br>\n",
    "DQN: `[env, action_size, memory, local_network, target_network]`<br>\n",
    "PPO: `[envs, buffer, network, num_envs, batch_size, mini_batch_size]`<br>\n",
    "Rainbow: `[env, action_size, batch_size, buffer_params, buffer, local_network, target_network, z_delta, z_support, discount_scaling, priority_weight, priority_weight_increase]`\n",
    "\n",
    "Note: `env_details` and `params` are individual classes containing additional parameters. `env_details` stores the `environment` parameters from the `parameters.yaml` file, and `params` the parameters unique to model. All parameters are stored in data classes and act as such when accessed. \n",
    "\n",
    "Note: `env_details` is printed as a dictionary but all key values are accessible via variables."
   ]
  },
  {
   "cell_type": "code",
   "execution_count": 5,
   "id": "5345d1bc-71cc-401f-b4d7-edd8e9e259f3",
   "metadata": {},
   "outputs": [
    {
     "name": "stdout",
     "output_type": "stream",
     "text": [
      "DQNParameters(gamma=0.99, tau=0.001, update_steps=4, max_timesteps=1000, target_update_steps=1000, buffer_size=1000, batch_size=32, eps_start=1.0, eps_end=0.1, eps_decay=0.995)\n",
      "PPOParameters(gamma=0.99, update_steps=4, loss_clip=0.1, rollout_size=10, num_envs=4, num_mini_batches=4, entropy_coef=0.01, value_loss_coef=0.5, clip_grad=0.5)\n"
     ]
    }
   ],
   "source": [
    "print(dqn.params)\n",
    "print(ppo.params)"
   ]
  },
  {
   "cell_type": "code",
   "execution_count": 6,
   "id": "5f0dfc58-25e3-486d-921c-ac830e51baed",
   "metadata": {},
   "outputs": [
    {
     "name": "stdout",
     "output_type": "stream",
     "text": [
      "Available attributes: '['actions', 'train_losses', 'ep_scores', 'intrinsic_losses']'\n",
      "[]\n"
     ]
    }
   ],
   "source": [
    "print(dqn.logger)\n",
    "print(dqn.logger.actions)"
   ]
  },
  {
   "cell_type": "code",
   "execution_count": 7,
   "id": "8cae5950-d03d-437b-b486-7e2b8ad3872a",
   "metadata": {},
   "outputs": [
    {
     "name": "stdout",
     "output_type": "stream",
     "text": [
      "{'gym_name': 'ALE/MontezumaRevenge-v5', 'name': 'MontezumaRevenge', 'obs_space': Box(0, 255, (4, 84, 84), uint8), 'action_space': Discrete(18), 'input_shape': (4, 84, 84), 'n_actions': 18, 'img_size': 84, 'stack_size': 4, 'capture_video': False, 'record_every': 10000}\n",
      "ALE/MontezumaRevenge-v5\n"
     ]
    }
   ],
   "source": [
    "print(ppo.env_details)\n",
    "print(ppo.env_details.gym_name)"
   ]
  },
  {
   "cell_type": "markdown",
   "id": "a371fd8e-4667-4bd0-93f9-99770ce70873",
   "metadata": {
    "tags": []
   },
   "source": [
    "## 3. Model Training"
   ]
  },
  {
   "cell_type": "markdown",
   "id": "5f17a4d0-3655-4adf-899f-72e503447b41",
   "metadata": {},
   "source": [
    "We train a model using its respective `train()` function. Each model has the same parameters supplied but performs different functionality.\n",
    "\n",
    "_Function_: `model.train(num_episodes: int, print_every: int = 100, save_count: int = 1000)`<br>\n",
    "_Parameters_:<br>\n",
    "    &nbsp;&nbsp;1. `num_episodes` - an integer value denoting the maximum number of episodes to train for.<br>\n",
    "    &nbsp;&nbsp;2. `print_every` - an integer value representing the episode number to provide progress updates. Note: the first and last episodes are always inclusive.<br>\n",
    "    &nbsp;&nbsp;3. `save_count` - an integer value representing the episode number to save the models state.<br>\n",
    "_Returns_: a trained model."
   ]
  },
  {
   "cell_type": "code",
   "execution_count": 8,
   "id": "d86626da-0459-4611-a374-278179f21514",
   "metadata": {},
   "outputs": [
    {
     "name": "stdout",
     "output_type": "stream",
     "text": [
      "Training agent on SpaceInvaders with 5 episodes.\n",
      "Buffer size: 1k, batch size: 32, max timesteps: 1k, num network updates: 4, intrinsic method: None\n",
      "(1.0/5) Episode Score: 120,  Train Loss: 152430.37500,  Time taken: 5 secs.\n",
      "(2.0/5) Episode Score: 65,  Train Loss: 2602.01025,  Time taken: 3 secs.\n",
      "(3.0/5) Episode Score: 380,  Train Loss: 107.50909,  Time taken: 5 secs.\n",
      "(4.0/5) Episode Score: 110,  Train Loss: 42.46745,  Time taken: 3 secs.\n",
      "(5.0/5) Episode Score: 135,  Train Loss: 82.25395,  Time taken: 2 secs.\n",
      "Saved model at episode 5 as: 'dqn_batch32_buffer1k_SpaInv_ep5.pt'.\n",
      "Saved logger data to 'saved_models/dqn_SpaInv_logger_data.tar.gz'. Total size: 806 bytes\n",
      "Training complete. Access metrics from 'logger' attribute. "
     ]
    }
   ],
   "source": [
    "dqn.train(num_episodes=5, print_every=1, save_count=5)"
   ]
  },
  {
   "cell_type": "code",
   "execution_count": 9,
   "id": "b4d531e1-2dd7-4ffa-9e9a-3ae773844c4a",
   "metadata": {},
   "outputs": [
    {
     "name": "stdout",
     "output_type": "stream",
     "text": [
      "Training agent on MontezumaRevenge with 200 episodes.\n",
      "Surrogate clipping size: 0.1, rollout size: 10, num environments: 4, num network updates: 4, batch size: 40, training iterations: 5, intrinsic method: curiosity.\n",
      "(1.0/5) Episode Score: 0.00,  Episodic Return: 0.05,  Approx KL: -0.002,  Total Loss: 5506.267,  Policy Loss: -0.000,  Value Loss: 5272.521,  Entropy Loss: 2.888,  Curiosity Loss: 5222.00977,  Time taken: 0 secs.\n",
      "(2.0/5) Episode Score: 0.00,  Episodic Return: 0.34,  Approx KL: 0.023,  Total Loss: 5508.791,  Policy Loss: -0.016,  Value Loss: 5273.366,  Entropy Loss: 2.879,  Curiosity Loss: 5240.09814,  Time taken: 0 secs.\n",
      "(3.0/5) Episode Score: 0.00,  Episodic Return: 1.40,  Approx KL: 0.002,  Total Loss: 5459.398,  Policy Loss: -0.090,  Value Loss: 5176.632,  Entropy Loss: 2.723,  Curiosity Loss: 5188.22217,  Time taken: 1 secs.\n",
      "(4.0/5) Episode Score: 0.00,  Episodic Return: 4.78,  Approx KL: 0.629,  Total Loss: 5521.161,  Policy Loss: -0.345,  Value Loss: 5265.684,  Entropy Loss: 1.522,  Curiosity Loss: 5246.40576,  Time taken: 0 secs.\n",
      "(5.0/5) Episode Score: 0.00,  Episodic Return: 11.89,  Approx KL: 0.108,  Total Loss: 5442.615,  Policy Loss: 0.000,  Value Loss: 5053.033,  Entropy Loss: 0.038,  Curiosity Loss: 5192.15771,  Time taken: 0 secs.\n",
      "Training complete. Access metrics from 'logger' attribute. "
     ]
    }
   ],
   "source": [
    "ppo.train(num_episodes=5, print_every=1, save_count=10)"
   ]
  },
  {
   "cell_type": "markdown",
   "id": "ebc7679e-dd48-4f57-8a34-601022e735e2",
   "metadata": {},
   "source": [
    "Trained model information is accessible via its `logger` attribute as shown below."
   ]
  },
  {
   "cell_type": "code",
   "execution_count": 10,
   "id": "2dc3de18-650c-46f1-8088-e47781389444",
   "metadata": {},
   "outputs": [
    {
     "name": "stdout",
     "output_type": "stream",
     "text": [
      "Available attributes: '['actions', 'train_losses', 'ep_scores', 'intrinsic_losses']'\n",
      "Available attributes: '['actions', 'avg_returns', 'avg_rewards', 'policy_losses', 'value_losses', 'entropy_losses', 'total_losses', 'approx_kl', 'intrinsic_losses']'\n"
     ]
    }
   ],
   "source": [
    "print(dqn.logger)\n",
    "print(ppo.logger)"
   ]
  },
  {
   "cell_type": "code",
   "execution_count": 11,
   "id": "e59db80a-3efa-4e8f-9053-24691b685117",
   "metadata": {},
   "outputs": [
    {
     "name": "stdout",
     "output_type": "stream",
     "text": [
      "[Counter({3: 477, 0: 456, 1: 453, 2: 441, 4: 431, 5: 414})]\n",
      "[Counter({6: 208, 16: 68, 4: 64, 1: 60, 9: 56, 17: 48, 15: 44, 8: 36, 5: 32, 3: 28, 2: 28, 14: 24, 0: 24, 11: 20, 10: 20, 12: 16, 13: 12, 7: 12})]\n"
     ]
    }
   ],
   "source": [
    "print(dqn.logger.actions)\n",
    "print(ppo.logger.actions)"
   ]
  },
  {
   "cell_type": "markdown",
   "id": "14e7141e-6cb6-478e-b444-00d616c2cb2b",
   "metadata": {},
   "source": [
    "## 4. Load Model"
   ]
  },
  {
   "cell_type": "markdown",
   "id": "ad658db8-644d-4b8e-9485-8765d2fc78fc",
   "metadata": {},
   "source": [
    "Previously trained models are loaded using the `load_model()` function from the `utils.model_utils` package.\n",
    "\n",
    "_Function_: `load_model(filename: str, device: str)`<br>\n",
    "_Parameters_:<br>\n",
    "    &nbsp;&nbsp;1. `filename` - a filename of the model to load. This file must be stored in a `saved_models` directory and contain the type of model and its IM type at the start of the filename.<br>\n",
    "    &nbsp;&nbsp;&nbsp;&nbsp;For example, `dqn_batch32_buffer1k_SpaInv_ep5` for a DQN model without IM, `ppo-cur_SpaInv_ep5` for a PPO model with Curiosity, and `rainbow-emp_SpaInv_ep5` for a Rainbow model with Empowerment.<br>\n",
    "    &nbsp;&nbsp;&nbsp;&nbsp;Prefixes must be one of: `[dqn, dqn-cur, dqn-emp, ppo, ppo-cur, ppo-emp, rainbow, rainbow-cur, rainbow-emp]`.<br>\n",
    "    &nbsp;&nbsp;2. `device` - a string value representing the CUDA device to load the model onto.<br>\n",
    "_Returns_: the loaded model with all its parameters.\n",
    "\n",
    "Note: a logger data file is required to load a models metric information. The filename for the logger must prefix in a similar way to the `filename` parameter. For example, `dqn_SpaInv_logger_data.tar.gz`."
   ]
  },
  {
   "cell_type": "code",
   "execution_count": 12,
   "id": "efe4b4bb-d37f-4e3b-95a7-424c71b021d6",
   "metadata": {},
   "outputs": [
    {
     "name": "stdout",
     "output_type": "stream",
     "text": [
      "Loaded model: 'dqn_batch32_buffer1k_SpaInv_ep5.pt'\n"
     ]
    }
   ],
   "source": [
    "from utils.model_utils import load_model\n",
    "\n",
    "model = load_model('dqn_batch32_buffer1k_SpaInv_ep5', device=device)"
   ]
  },
  {
   "cell_type": "code",
   "execution_count": 13,
   "id": "5f2cf702-cf20-4c42-9062-fae3d9f2272c",
   "metadata": {},
   "outputs": [
    {
     "data": {
      "text/plain": [
       "Available attributes: '['actions', 'train_losses', 'ep_scores', 'intrinsic_losses']'"
      ]
     },
     "execution_count": 13,
     "metadata": {},
     "output_type": "execute_result"
    }
   ],
   "source": [
    "model.logger"
   ]
  },
  {
   "cell_type": "code",
   "execution_count": 14,
   "id": "2267ce11-89cb-42ba-b5e9-4938391ff159",
   "metadata": {},
   "outputs": [
    {
     "data": {
      "text/plain": [
       "[Counter({4: 431, 1: 453, 0: 456, 2: 441, 5: 414, 3: 477})]"
      ]
     },
     "execution_count": 14,
     "metadata": {},
     "output_type": "execute_result"
    }
   ],
   "source": [
    "model.logger.actions"
   ]
  },
  {
   "cell_type": "markdown",
   "id": "d4b778e9-f3f0-4584-9f48-8131db0c95cb",
   "metadata": {},
   "source": [
    "## 5. Model Validation"
   ]
  },
  {
   "cell_type": "markdown",
   "id": "4fb7d6b2-2902-429c-b887-ee32efccab48",
   "metadata": {},
   "source": [
    "Models can be validated using several options, depending on your requirements. To watch the agent in its environment we use `video_render()`, to simply check its episode score `test_model()`, or visualise its results we use `plot_data()`. `test_model()` and `plot_data()` are accessible from the `utils.validate` package, `video_render()` from `utils.render`."
   ]
  },
  {
   "cell_type": "markdown",
   "id": "4fa47fd1-0320-4af5-8318-6212b7b4da0d",
   "metadata": {},
   "source": [
    "_Function_: `video_render(agent: Agent, episodes: int = 5)` or `test_model(agent: Agent, episodes: int = 100)`<br>\n",
    "_Parameters_:<br>\n",
    "    &nbsp;&nbsp;1. `agent` - a recently trained or loaded agent.<br>\n",
    "    &nbsp;&nbsp;2. `episodes` - an integer representing the number of episodes to watch/perform in its environment.<br>\n",
    "_Returns_: a video of the agent performing in the environment, or a list of episode scores."
   ]
  },
  {
   "cell_type": "code",
   "execution_count": 15,
   "id": "8853b5f0-4285-4320-94b2-8961a7632bc0",
   "metadata": {},
   "outputs": [
    {
     "name": "stdout",
     "output_type": "stream",
     "text": [
      "(1/1) Score: 135\n"
     ]
    }
   ],
   "source": [
    "from utils.render import video_render\n",
    "\n",
    "video_render(model, 1)"
   ]
  },
  {
   "cell_type": "code",
   "execution_count": 16,
   "id": "e4cebab8-20f5-477b-a781-d5f5d20a882b",
   "metadata": {},
   "outputs": [
    {
     "name": "stdout",
     "output_type": "stream",
     "text": [
      "(1/10) Episode score: 380\n",
      "(10/10) Episode score: 560\n",
      "Scores avg: 370.0\n",
      "[380.0, 460.0, 165.0, 245.0, 245.0, 255.0, 540.0, 685.0, 165.0, 560.0]\n"
     ]
    }
   ],
   "source": [
    "from utils.validate import test_model\n",
    "\n",
    "scores = test_model(model, 10)\n",
    "print(scores)"
   ]
  },
  {
   "cell_type": "markdown",
   "id": "dbbdfcf6-21c6-4816-abe4-f101d45aa826",
   "metadata": {},
   "source": [
    "_Function_: `plot_data(data: tuple[list, list], plot_type: str, format_dict: dict, figsize: tuple = (8, 6), graph_params: dict = None, filename: str = None)`<br>\n",
    "_Parameters_:<br>\n",
    "    &nbsp;&nbsp;1. `data` - up to two lists of data, represented as a tuple, containing the information to display on the x and y axes. The number of lists will vary depending on the type of plot selected. `['line', 'scatter', 'bar']` require two lists `(x, y)`, while `['histogram', 'boxplot']` only requires one `(x,)`.<br>\n",
    "    &nbsp;&nbsp;2. `plot_type` - a string containing the type of plot to use. Options: `['line', 'scatter', 'bar', 'histogram', 'boxplot']`.<br>\n",
    "    &nbsp;&nbsp;3. `format_dict` - a dictionary containing plot formatting information. Required keys: `['title', 'xlabel', 'ylabel']`. Optional keys: `['disable_y_ticks', 'disable_x_ticks']`.<br>\n",
    "    &nbsp;&nbsp;4. `figsize` - an (optional) tuple containing integer values for the `(column, row)` size of the plot figure.<br>\n",
    "    &nbsp;&nbsp;5. `graph_params` - an (optional) dictionary of parameters containing additional parameters unique to the selected graph. Refer to the matplotlib documentation for more details.<br>\n",
    "    &nbsp;&nbsp;6. `filename` - an (optional) string containing a filepath and name of the plot to save it onto your machine. E.g., `/plots/ppo-cur_SpaInv.png`.<br>\n",
    "_Returns_: a plot of the data."
   ]
  },
  {
   "cell_type": "code",
   "execution_count": 17,
   "id": "e9ed9114-f26f-4888-99b5-ccc7c4dd1292",
   "metadata": {},
   "outputs": [
    {
     "data": {
      "image/png": "[encoded data removed]",
      "text/plain": [
       "<Figure size 600x500 with 1 Axes>"
      ]
     },
     "metadata": {},
     "output_type": "display_data"
    }
   ],
   "source": [
    "from utils.validate import plot_data\n",
    "\n",
    "x = list(model.logger.actions[0].values())\n",
    "action_names_func = lambda m: m.env_details.make_env(m.env_details.gym_name).env.get_action_meanings()\n",
    "action_names = action_names_func(model)\n",
    "\n",
    "plot_data((action_names, x), plot_type='bar', format_dict={'title': 'DQN Space Invader Actions Taken', 'xlabel': 'Actions', 'ylabel': 'Count', 'disable_y_ticks': True}, figsize=(6, 5))"
   ]
  },
  {
   "cell_type": "markdown",
   "id": "c31899b0-3dd6-4771-bb6b-9873406552fa",
   "metadata": {},
   "source": [
    "## 6. Improving Models"
   ]
  },
  {
   "cell_type": "markdown",
   "id": "2e1363bc-0ba4-417b-a531-d97f62afda47",
   "metadata": {},
   "source": [
    "To improve a model, we use the `improve_model()` function from the `utils.model_utils` package. \n",
    "\n",
    "_Function_: `improve_model(load_model_params: dict, train_params: dict, ep_total: int)`<br>\n",
    "_Parameters_:<br>\n",
    "    &nbsp;&nbsp;1. `load_model_params` - a dictionary containing the `load_model()` function parameters. Requires: `{'filename': '', 'device': ''}`.<br>\n",
    "    &nbsp;&nbsp;2. `train_params` - a dictionary containing the `model.train()` function parameters. Requires: `{'print_every': 0, 'save_count': 0}`.<br>\n",
    "    &nbsp;&nbsp;3. `ep_total` - an integer value representing the number of episodes to reach during training. E.g., `int(1e5)`.<br>\n",
    "_Returns_: an improved version of the supplied model."
   ]
  },
  {
   "cell_type": "code",
   "execution_count": 18,
   "id": "841847a2-7bfd-40fb-8b0f-7ac13933e550",
   "metadata": {
    "tags": []
   },
   "outputs": [
    {
     "name": "stdout",
     "output_type": "stream",
     "text": [
      "Loaded model: 'dqn_batch32_buffer1k_SpaInv_ep5.pt'\n",
      "Starting training from 5.0 episodes for a further 5.0 (10.0 total).\n",
      "Training agent on SpaceInvaders with 5 episodes.\n",
      "Buffer size: 1k, batch size: 32, max timesteps: 1k, num network updates: 4, intrinsic method: None\n",
      "(6.0/10) Episode Score: 120,  Train Loss: 110.59046,  Time taken: 2 secs.\n",
      "(7.0/10) Episode Score: 65,  Train Loss: 97.15627,  Time taken: 2 secs.\n",
      "(8.0/10) Episode Score: 80,  Train Loss: 135.17920,  Time taken: 1 secs.\n",
      "(9.0/10) Episode Score: 155,  Train Loss: 72.77246,  Time taken: 3 secs.\n",
      "(10.0/10) Episode Score: 155,  Train Loss: 120.21696,  Time taken: 2 secs.\n",
      "Training complete. Access metrics from 'logger' attribute. "
     ]
    }
   ],
   "source": [
    "from utils.model_utils import improve_model\n",
    "\n",
    "device = 'cuda:0'\n",
    "filename = 'dqn_batch32_buffer1k_SpaInv_ep5'\n",
    "load_model_params = {'filename': filename, 'device': device}\n",
    "train_params = {'print_every': 1, 'save_count': 100}\n",
    "\n",
    "improved_model = improve_model(load_model_params, train_params, ep_total=10)"
   ]
  },
  {
   "cell_type": "code",
   "execution_count": 19,
   "id": "c79d40c8-231b-4986-99c9-0e6db54fe961",
   "metadata": {},
   "outputs": [
    {
     "name": "stdout",
     "output_type": "stream",
     "text": [
      "Available attributes: '['actions', 'train_losses', 'ep_scores', 'intrinsic_losses']'\n",
      "[Counter({3: 907, 0: 853, 1: 852, 2: 814, 5: 807, 4: 806})]\n"
     ]
    }
   ],
   "source": [
    "print(improved_model.logger)\n",
    "print(improved_model.logger.actions)"
   ]
  },
  {
   "cell_type": "code",
   "execution_count": null,
   "id": "baa2165d-4eae-4b15-a755-301402c0164d",
   "metadata": {},
   "outputs": [],
   "source": []
  }
 ],
 "metadata": {
  "kernelspec": {
   "display_name": "rlatari",
   "language": "python",
   "name": "rlatari"
  },
  "language_info": {
   "codemirror_mode": {
    "name": "ipython",
    "version": 3
   },
   "file_extension": ".py",
   "mimetype": "text/x-python",
   "name": "python",
   "nbconvert_exporter": "python",
   "pygments_lexer": "ipython3",
   "version": "3.10.5"
  }
 },
 "nbformat": 4,
 "nbformat_minor": 5
}
