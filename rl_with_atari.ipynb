{
 "cells": [
  {
   "cell_type": "markdown",
   "id": "ed87b53b-9602-4c27-ba3f-d9d40ff4279a",
   "metadata": {},
   "source": [
    "# Reinforcement Learning with Atari Games"
   ]
  },
  {
   "cell_type": "code",
   "execution_count": 1,
   "id": "4f54684c-c9be-408c-9f1d-9c7d1228d011",
   "metadata": {},
   "outputs": [],
   "source": [
    "import os\n",
    "from dotenv import load_dotenv\n",
    "\n",
    "from core.env_details import EnvDetails\n",
    "from core.parameters import ModelParameters, DQNParameters\n",
    "from agents.dqn import DQN\n",
    "from models.cnn import CNNModel\n",
    "import torch.optim as optim\n",
    "import torch.nn as nn"
   ]
  },
  {
   "cell_type": "markdown",
   "id": "8a621639-4192-4fce-895e-14b335bfe7ff",
   "metadata": {},
   "source": [
    "## 1. Initial Setup"
   ]
  },
  {
   "cell_type": "code",
   "execution_count": 2,
   "id": "68ce200a-32d4-4282-8221-2c92fe7fe458",
   "metadata": {},
   "outputs": [],
   "source": [
    " # Create access to .env file (hyperparameters)\n",
    "load_dotenv()\n",
    "\n",
    "SEED = int(os.getenv('SEED'))\n",
    "LEARNING_RATE = float(os.getenv('LEARNING_RATE'))\n",
    "EPSILON = float(os.getenv('EPSILON'))\n",
    "NUM_EPISODES = int(os.getenv('NUM_EPISODES'))"
   ]
  },
  {
   "cell_type": "code",
   "execution_count": 3,
   "id": "3ef195a5-2016-4aec-93c5-30effba4c504",
   "metadata": {},
   "outputs": [],
   "source": [
    "# Set environment class\n",
    "env_details = EnvDetails(\n",
    "    gym_name=os.getenv('ENV_1'),\n",
    "    img_size=int(os.getenv('IMG_SIZE')),\n",
    "    stack_size=int(os.getenv('STACK_SIZE'))\n",
    ")"
   ]
  },
  {
   "cell_type": "code",
   "execution_count": 4,
   "id": "afeba61b-fb5e-415a-8d3c-738ca6c3d5dd",
   "metadata": {},
   "outputs": [
    {
     "data": {
      "text/plain": [
       "{'gym_name': 'ALE/SpaceInvaders-v5', 'name': 'SpaceInvaders', 'env': <FrameStack<ResizeObservation<GrayScaleObservation<TimeLimit<OrderEnforcing<AtariEnv<ALE/SpaceInvaders-v5>>>>>>>, 'obs_space': Box(0, 255, (4, 128, 128), uint8), 'action_space': Discrete(6), 'input_shape': (4, 128, 128), 'n_actions': 6, 'img_size': 128, 'stack_size': 4}"
      ]
     },
     "execution_count": 4,
     "metadata": {},
     "output_type": "execute_result"
    }
   ],
   "source": [
    "env_details"
   ]
  },
  {
   "cell_type": "markdown",
   "id": "0da63c80-1fd1-4579-b18a-d5fa6c20f1a0",
   "metadata": {},
   "source": [
    "## 2. Model Creation"
   ]
  },
  {
   "cell_type": "markdown",
   "id": "60affa60-f650-4b74-89de-d59f8a6b7b04",
   "metadata": {},
   "source": [
    "### 2a. Deep Q-Network (DQN)"
   ]
  },
  {
   "cell_type": "code",
   "execution_count": 5,
   "id": "3e017354-4c32-4a70-9488-2468c9834b8d",
   "metadata": {},
   "outputs": [],
   "source": [
    "# Set DQN hyperparameters\n",
    "network = CNNModel(input_shape=env_details.input_shape, n_actions=env_details.n_actions, seed=SEED)\n",
    "\n",
    "model_params = ModelParameters(\n",
    "    network=network,\n",
    "    optimizer=optim.Adam(network.parameters(), lr=LEARNING_RATE, eps=EPSILON),\n",
    "    loss_metric=nn.MSELoss()\n",
    ")\n",
    "\n",
    "dqn_params = DQNParameters(\n",
    "    gamma=float(os.getenv('GAMMA')),\n",
    "    tau=float(os.getenv('TAU')),\n",
    "    buffer_size=int(float(os.getenv('BUFFER_SIZE'))),\n",
    "    batch_size=int(os.getenv('BATCH_SIZE')),\n",
    "    update_steps=int(os.getenv('UPDATE_STEPS')),\n",
    "    target_network=network\n",
    ")"
   ]
  },
  {
   "cell_type": "code",
   "execution_count": 6,
   "id": "725535d6-9d22-4398-85fc-0ffb43650a3c",
   "metadata": {},
   "outputs": [
    {
     "name": "stdout",
     "output_type": "stream",
     "text": [
      "CUDA available. Device set to GPU.\n"
     ]
    }
   ],
   "source": [
    "# Create DQN instance\n",
    "dqn = DQN(env_details, model_params, dqn_params, SEED)"
   ]
  },
  {
   "cell_type": "code",
   "execution_count": 7,
   "id": "f681e4b3-54d7-4fc8-91a3-69a7162f1f54",
   "metadata": {},
   "outputs": [
    {
     "name": "stdout",
     "output_type": "stream",
     "text": [
      "Training agent on 3 episodes with 1k timesteps.\n",
      "Buffer size: 100k, batch size: 32.\n",
      "(1/3) Episode Score: 180, Train Loss: 0.00135\n",
      "(2/3) Episode Score: 105, Train Loss: 0.00125\n",
      "(3/3) Episode Score: 35, Train Loss: 0.00070\n",
      "Training complete. Access metrics from 'logger' attribute.\n"
     ]
    }
   ],
   "source": [
    "# Train model\n",
    "dqn.train(num_episodes=3, print_every=1)"
   ]
  },
  {
   "cell_type": "code",
   "execution_count": null,
   "id": "45b5fe73",
   "metadata": {},
   "outputs": [],
   "source": []
  }
 ],
 "metadata": {
  "kernelspec": {
   "display_name": "rla2",
   "language": "python",
   "name": "rla2"
  },
  "language_info": {
   "codemirror_mode": {
    "name": "ipython",
    "version": 3
   },
   "file_extension": ".py",
   "mimetype": "text/x-python",
   "name": "python",
   "nbconvert_exporter": "python",
   "pygments_lexer": "ipython3",
   "version": "3.10.4"
  }
 },
 "nbformat": 4,
 "nbformat_minor": 5
}
