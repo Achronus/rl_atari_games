{
 "cells": [
  {
   "cell_type": "markdown",
   "id": "ed87b53b-9602-4c27-ba3f-d9d40ff4279a",
   "metadata": {},
   "source": [
    "# Reinforcement Learning with Atari Games"
   ]
  },
  {
   "cell_type": "markdown",
   "id": "8a621639-4192-4fce-895e-14b335bfe7ff",
   "metadata": {},
   "source": [
    "## 1. Initial Setup"
   ]
  },
  {
   "cell_type": "code",
   "execution_count": 1,
   "id": "9380453d-9c2b-41fb-b9f3-b7d739143812",
   "metadata": {},
   "outputs": [],
   "source": [
    "from core.create import create_model, get_utility_params\n",
    "from utils.helper import set_device\n",
    "from utils.model_utils import load_model\n",
    "\n",
    "import torch"
   ]
  },
  {
   "cell_type": "code",
   "execution_count": 2,
   "id": "4292c565-0b2d-45ed-98bf-4b43d7cb5824",
   "metadata": {},
   "outputs": [
    {
     "name": "stdout",
     "output_type": "stream",
     "text": [
      "NUM_EPISODES=50000, SAVE_EVERY=10000\n"
     ]
    }
   ],
   "source": [
    "# Get utility parameters from yaml file\n",
    "util_params = get_utility_params()\n",
    "\n",
    "# Set them as hyperparameters\n",
    "NUM_EPISODES = util_params['num_episodes']\n",
    "SAVE_EVERY = util_params['save_every']\n",
    "print(f'NUM_EPISODES={NUM_EPISODES}, SAVE_EVERY={SAVE_EVERY}')"
   ]
  },
  {
   "cell_type": "code",
   "execution_count": 3,
   "id": "1e1030fb-367b-4956-a090-2ecfc8a80eb0",
   "metadata": {},
   "outputs": [
    {
     "name": "stdout",
     "output_type": "stream",
     "text": [
      "CUDA available. Device set to GPU -> 'cuda:0'\n"
     ]
    }
   ],
   "source": [
    "# Set CUDA device\n",
    "device = set_device()"
   ]
  },
  {
   "cell_type": "code",
   "execution_count": 4,
   "id": "cb40765c-056c-4a44-9638-18528853cb78",
   "metadata": {},
   "outputs": [
    {
     "name": "stdout",
     "output_type": "stream",
     "text": [
      "env2=ALE/Qbert-v5, env3=ALE/MontezumaRevenge-v5\n"
     ]
    }
   ],
   "source": [
    "env2 = util_params['env_2']\n",
    "env3 = util_params['env_3']\n",
    "print(f'env2={env2}, env3={env3}')"
   ]
  },
  {
   "cell_type": "markdown",
   "id": "0da63c80-1fd1-4579-b18a-d5fa6c20f1a0",
   "metadata": {},
   "source": [
    "## 2. Model Creation and Training"
   ]
  },
  {
   "cell_type": "markdown",
   "id": "60affa60-f650-4b74-89de-d59f8a6b7b04",
   "metadata": {},
   "source": [
    "### 2a. Rainbow Deep Q-Network (RDQN)"
   ]
  },
  {
   "cell_type": "code",
   "execution_count": 5,
   "id": "725535d6-9d22-4398-85fc-0ffb43650a3c",
   "metadata": {},
   "outputs": [
    {
     "name": "stderr",
     "output_type": "stream",
     "text": [
      "D:\\Users\\Frazzle\\anaconda3\\envs\\rla2\\lib\\site-packages\\gym\\utils\\passive_env_checker.py:97: UserWarning: \u001b[33mWARN: We recommend you to use a symmetric and normalized Box action space (range=[-1, 1]) https://stable-baselines3.readthedocs.io/en/master/guide/rl_tips.html\u001b[0m\n",
      "  logger.warn(\n"
     ]
    }
   ],
   "source": [
    "# Create Rainbow DQN instance\n",
    "rainbow = create_model('rainbow', env=env2, device=device)"
   ]
  },
  {
   "cell_type": "code",
   "execution_count": 6,
   "id": "6aad46cd-adc2-4828-b283-2cd7fc2fbc3f",
   "metadata": {},
   "outputs": [
    {
     "data": {
      "text/plain": [
       "{'gym_name': 'ALE/Qbert-v5', 'name': 'Qbert', 'obs_space': Box(0, 255, (4, 84, 84), uint8), 'action_space': Discrete(6), 'input_shape': (4, 84, 84), 'n_actions': 6, 'img_size': 84, 'stack_size': 4, 'capture_video': False, 'record_every': 10000}"
      ]
     },
     "execution_count": 6,
     "metadata": {},
     "output_type": "execute_result"
    }
   ],
   "source": [
    "rainbow.env_details"
   ]
  },
  {
   "cell_type": "code",
   "execution_count": 7,
   "id": "f681e4b3-54d7-4fc8-91a3-69a7162f1f54",
   "metadata": {
    "tags": []
   },
   "outputs": [
    {
     "name": "stdout",
     "output_type": "stream",
     "text": [
      "Training agent on Qbert with 4 episodes.\n",
      "Buffer size: 1k, batch size: 32, max timesteps: 1k, num network updates: 4, replay period: 100.\n",
      "(1.0/4)  Episode Score: 250,   Train Loss: 3.62703,  Time taken: 8.84 secs.\n",
      "(2.0/4)  Episode Score: 275,   Train Loss: 3.69297,  Time taken: 8.98 secs.\n",
      "Saved model at episode 2 as: 'rainbow_batch32_buffer1000_Qbert_ep2.pt'.\n",
      "Saved logger data to 'saved_models/rainbow_Qbert_logger_data.tar.gz'. Total size: 623 bytes\n",
      "(3.0/4)  Episode Score: 50,   Train Loss: 3.34267,  Time taken: 3.64 secs.\n",
      "(4.0/4)  Episode Score: 75,   Train Loss: 3.12163,  Time taken: 4.08 secs.\n",
      "Saved model at episode 4 as: 'rainbow_batch32_buffer1000_Qbert_ep4.pt'.\n",
      "Saved logger data to 'saved_models/rainbow_Qbert_logger_data.tar.gz'. Total size: 673 bytes\n",
      "Training complete. Access metrics from 'logger' attribute. "
     ]
    }
   ],
   "source": [
    "# Train model\n",
    "rainbow.train(num_episodes=4, print_every=1, save_count=2)"
   ]
  },
  {
   "cell_type": "code",
   "execution_count": 8,
   "id": "689a2d12-602d-434c-a923-289196252790",
   "metadata": {},
   "outputs": [
    {
     "data": {
      "text/plain": [
       "Available attributes: '['avg_returns', 'actions', 'train_losses', 'ep_scores']'"
      ]
     },
     "execution_count": 8,
     "metadata": {},
     "output_type": "execute_result"
    }
   ],
   "source": [
    "rainbow.logger"
   ]
  },
  {
   "cell_type": "code",
   "execution_count": 9,
   "id": "f5013ad7-4a46-4ddb-89fd-6cac5a4f90f0",
   "metadata": {},
   "outputs": [
    {
     "data": {
      "text/plain": [
       "[Counter({5: 2935, 1: 3012, 0: 1261, 3: 1099, 4: 1028, 2: 553})]"
      ]
     },
     "execution_count": 9,
     "metadata": {},
     "output_type": "execute_result"
    }
   ],
   "source": [
    "rainbow.logger.actions"
   ]
  },
  {
   "cell_type": "markdown",
   "id": "76989e54-1c8d-47e2-b1b6-371b6f9cb4d5",
   "metadata": {},
   "source": [
    "### 2b. Proximal Policy Optimization (PPO)"
   ]
  },
  {
   "cell_type": "code",
   "execution_count": 10,
   "id": "b051aab5-79eb-42d2-8054-4384c256843f",
   "metadata": {},
   "outputs": [],
   "source": [
    "# Create PPO instance\n",
    "ppo = create_model('ppo', env=env3, device=device)"
   ]
  },
  {
   "cell_type": "code",
   "execution_count": 11,
   "id": "df8ae064-8fab-40ae-a0df-e1f20de41e81",
   "metadata": {},
   "outputs": [
    {
     "data": {
      "text/plain": [
       "{'gym_name': 'ALE/MontezumaRevenge-v5', 'name': 'MontezumaRevenge', 'obs_space': Box(0, 255, (4, 84, 84), uint8), 'action_space': Discrete(18), 'input_shape': (4, 84, 84), 'n_actions': 18, 'img_size': 84, 'stack_size': 4, 'capture_video': False, 'record_every': 10000}"
      ]
     },
     "execution_count": 11,
     "metadata": {},
     "output_type": "execute_result"
    }
   ],
   "source": [
    "ppo.env_details"
   ]
  },
  {
   "cell_type": "code",
   "execution_count": 12,
   "id": "9e0bec5f-9f1d-4402-97ba-985fa47d3017",
   "metadata": {},
   "outputs": [],
   "source": [
    "PPO_NUM_EPISODES = ppo.params.rollout_size * ppo.params.num_agents * NUM_EPISODES\n",
    "demo_episodes = int((PPO_NUM_EPISODES / NUM_EPISODES) * 4)"
   ]
  },
  {
   "cell_type": "code",
   "execution_count": 13,
   "id": "30ac281a-128b-474d-962f-580b1a400bb4",
   "metadata": {},
   "outputs": [
    {
     "name": "stdout",
     "output_type": "stream",
     "text": [
      "Training agent on MontezumaRevenge with 3K episodes.\n",
      "Surrogate clipping size: 0.1, rollout size: 100, num agents: 8, num network updates: 4, batch size: 800, training iterations: 4.\n",
      "(1.0/4) Episodic Return: 0.01683,  Approx KL: -0.00013,  Total Loss: -0.03043,  Policy Loss: -0.00156,  Value Loss: 0.00002,  Entropy Loss: 2.88842,  Time taken: 1.55 secs.\n",
      "(2.0/4) Episodic Return: 0.00821,  Approx KL: 0.00035,  Total Loss: -0.02935,  Policy Loss: -0.00048,  Value Loss: 0.00001,  Entropy Loss: 2.88770,  Time taken: 2.32 secs.\n",
      "Saved model at episode 2 as: 'ppo_rollout100_agents8_MonRev_ep2.pt'.\n",
      "Saved logger data to 'saved_models/ppo_MonRev_logger_data.tar.gz'. Total size: 776 bytes\n",
      "(3.0/4) Episodic Return: 0.00386,  Approx KL: 0.00045,  Total Loss: -0.02936,  Policy Loss: -0.00049,  Value Loss: 0.00000,  Entropy Loss: 2.88753,  Time taken: 1.44 secs.\n",
      "(4.0/4) Episodic Return: 0.00117,  Approx KL: -0.00016,  Total Loss: -0.02936,  Policy Loss: -0.00049,  Value Loss: 0.00000,  Entropy Loss: 2.88733,  Time taken: 1.22 secs.\n",
      "Saved model at episode 4 as: 'ppo_rollout100_agents8_MonRev_ep4.pt'.\n",
      "Saved logger data to 'saved_models/ppo_MonRev_logger_data.tar.gz'. Total size: 858 bytes\n",
      "Training complete. Access metrics from 'logger' attribute. "
     ]
    }
   ],
   "source": [
    "ppo.train(num_episodes=demo_episodes, print_every=1, save_count=2)  # 4 training iterations"
   ]
  },
  {
   "cell_type": "code",
   "execution_count": 14,
   "id": "85944b0b-ee91-448f-ac25-24973439e5d1",
   "metadata": {},
   "outputs": [
    {
     "data": {
      "text/plain": [
       "Available attributes: '['actions', 'avg_rewards', 'avg_returns', 'policy_losses', 'value_losses', 'entropy_losses', 'total_losses', 'approx_kl']'"
      ]
     },
     "execution_count": 14,
     "metadata": {},
     "output_type": "execute_result"
    }
   ],
   "source": [
    "ppo.logger"
   ]
  },
  {
   "cell_type": "code",
   "execution_count": 15,
   "id": "b8bae015-9472-4358-bb30-b05cc11d916f",
   "metadata": {},
   "outputs": [
    {
     "data": {
      "text/plain": [
       "[Counter({6: 816,\n",
       "          8: 696,\n",
       "          2: 776,\n",
       "          9: 612,\n",
       "          7: 676,\n",
       "          10: 684,\n",
       "          0: 576,\n",
       "          1: 740,\n",
       "          14: 612,\n",
       "          4: 772,\n",
       "          3: 788,\n",
       "          5: 700,\n",
       "          11: 668,\n",
       "          16: 800,\n",
       "          15: 876,\n",
       "          17: 712,\n",
       "          12: 664,\n",
       "          13: 632})]"
      ]
     },
     "execution_count": 15,
     "metadata": {},
     "output_type": "execute_result"
    }
   ],
   "source": [
    "ppo.logger.actions"
   ]
  },
  {
   "cell_type": "code",
   "execution_count": null,
   "id": "b1f35ab1-18a4-40c7-b32e-1533ec40485c",
   "metadata": {},
   "outputs": [],
   "source": []
  }
 ],
 "metadata": {
  "kernelspec": {
   "display_name": "rla2",
   "language": "python",
   "name": "rla2"
  },
  "language_info": {
   "codemirror_mode": {
    "name": "ipython",
    "version": 3
   },
   "file_extension": ".py",
   "mimetype": "text/x-python",
   "name": "python",
   "nbconvert_exporter": "python",
   "pygments_lexer": "ipython3",
   "version": "3.10.4"
  }
 },
 "nbformat": 4,
 "nbformat_minor": 5
}
