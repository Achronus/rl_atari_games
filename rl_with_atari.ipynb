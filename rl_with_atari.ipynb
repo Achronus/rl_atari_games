{
 "cells": [
  {
   "cell_type": "markdown",
   "id": "ed87b53b-9602-4c27-ba3f-d9d40ff4279a",
   "metadata": {},
   "source": [
    "# Reinforcement Learning with Atari Games"
   ]
  },
  {
   "cell_type": "markdown",
   "id": "8a621639-4192-4fce-895e-14b335bfe7ff",
   "metadata": {},
   "source": [
    "## 1. Initial Setup"
   ]
  },
  {
   "cell_type": "code",
   "execution_count": 1,
   "id": "9380453d-9c2b-41fb-b9f3-b7d739143812",
   "metadata": {},
   "outputs": [],
   "source": [
    "from core.create import create_model, get_utility_params\n",
    "from utils.helper import set_device\n",
    "from utils.model_utils import load_model\n",
    "from utils.render import video_render"
   ]
  },
  {
   "cell_type": "code",
   "execution_count": 2,
   "id": "4292c565-0b2d-45ed-98bf-4b43d7cb5824",
   "metadata": {},
   "outputs": [
    {
     "name": "stdout",
     "output_type": "stream",
     "text": [
      "NUM_EPISODES=50000, SAVE_EVERY=10000\n"
     ]
    }
   ],
   "source": [
    "# Get utility parameters from yaml file\n",
    "util_params = get_utility_params()\n",
    "\n",
    "# Set them as hyperparameters\n",
    "NUM_EPISODES = util_params['num_episodes']\n",
    "SAVE_EVERY = util_params['save_every']\n",
    "print(f'NUM_EPISODES={NUM_EPISODES}, SAVE_EVERY={SAVE_EVERY}')"
   ]
  },
  {
   "cell_type": "code",
   "execution_count": 3,
   "id": "1e1030fb-367b-4956-a090-2ecfc8a80eb0",
   "metadata": {},
   "outputs": [
    {
     "name": "stdout",
     "output_type": "stream",
     "text": [
      "CUDA available. Device set to GPU -> 'cuda:0'\n"
     ]
    }
   ],
   "source": [
    "# Set CUDA device\n",
    "device = set_device()"
   ]
  },
  {
   "cell_type": "code",
   "execution_count": 4,
   "id": "cb40765c-056c-4a44-9638-18528853cb78",
   "metadata": {},
   "outputs": [
    {
     "name": "stdout",
     "output_type": "stream",
     "text": [
      "env2=ALE/Qbert-v5, env3=ALE/MontezumaRevenge-v5\n"
     ]
    }
   ],
   "source": [
    "env2 = util_params['env_2']\n",
    "env3 = util_params['env_3']\n",
    "print(f'env2={env2}, env3={env3}')"
   ]
  },
  {
   "cell_type": "markdown",
   "id": "0da63c80-1fd1-4579-b18a-d5fa6c20f1a0",
   "metadata": {},
   "source": [
    "## 2. Model Creation and Training"
   ]
  },
  {
   "cell_type": "markdown",
   "id": "a371fd8e-4667-4bd0-93f9-99770ce70873",
   "metadata": {},
   "source": [
    "### 2a. Deep Q-Network (DQN)"
   ]
  },
  {
   "cell_type": "code",
   "execution_count": 5,
   "id": "b4d531e1-2dd7-4ffa-9e9a-3ae773844c4a",
   "metadata": {},
   "outputs": [
    {
     "name": "stderr",
     "output_type": "stream",
     "text": [
      "D:\\Users\\Frazzle\\anaconda3\\envs\\rla2\\lib\\site-packages\\gym\\utils\\passive_env_checker.py:97: UserWarning: \u001b[33mWARN: We recommend you to use a symmetric and normalized Box action space (range=[-1, 1]) https://stable-baselines3.readthedocs.io/en/master/guide/rl_tips.html\u001b[0m\n",
      "  logger.warn(\n"
     ]
    }
   ],
   "source": [
    "# Create DQN instance\n",
    "dqn = create_model('dqn', device=device, im_type='curiosity')\n",
    "dqn2 = create_model('dqn', device=device)"
   ]
  },
  {
   "cell_type": "code",
   "execution_count": 6,
   "id": "9c75b7a4-5c68-4316-820a-b459ee30dafa",
   "metadata": {},
   "outputs": [
    {
     "data": {
      "text/plain": [
       "{'gym_name': 'ALE/SpaceInvaders-v5', 'name': 'SpaceInvaders', 'obs_space': Box(0, 255, (4, 84, 84), uint8), 'action_space': Discrete(6), 'input_shape': (4, 84, 84), 'n_actions': 6, 'img_size': 84, 'stack_size': 4, 'capture_video': False, 'record_every': 10000}"
      ]
     },
     "execution_count": 6,
     "metadata": {},
     "output_type": "execute_result"
    }
   ],
   "source": [
    "dqn.env_details"
   ]
  },
  {
   "cell_type": "code",
   "execution_count": 7,
   "id": "56824d63-5850-400d-ac3a-4684b378bbf2",
   "metadata": {},
   "outputs": [
    {
     "name": "stdout",
     "output_type": "stream",
     "text": [
      "Training agent on SpaceInvaders with 5 episodes.\n",
      "Buffer size: 1k, batch size: 32, max timesteps: 1k, num network updates: 4, intrinsic method: curiosity\n",
      "(1.0/5) Episode Score: 120, Train Loss: 2607.47656\n",
      "(2.0/5) Episode Score: 65, Train Loss: 313.47992\n",
      "(3.0/5) Episode Score: 80, Train Loss: 222.82666\n",
      "(4.0/5) Episode Score: 155, Train Loss: 78.88565\n",
      "(5.0/5) Episode Score: 155, Train Loss: 42.40712\n",
      "Saved model at episode 5 as: 'dqncuriosity_batch32_SpaInv_ep5.pt'.\n",
      "Saved logger data to 'saved_models/dqncuriosity_SpaInv_logger_data.tar.gz'. Total size: 800 bytes\n",
      "Training complete. Access metrics from 'logger' attribute. "
     ]
    }
   ],
   "source": [
    "# Train model\n",
    "dqn.train(num_episodes=5, print_every=1, save_count=5)"
   ]
  },
  {
   "cell_type": "code",
   "execution_count": 8,
   "id": "1d23ebf8-43b6-46e8-a14f-68c01e391598",
   "metadata": {},
   "outputs": [
    {
     "name": "stdout",
     "output_type": "stream",
     "text": [
      "Training agent on SpaceInvaders with 5 episodes.\n",
      "Buffer size: 1k, batch size: 32, max timesteps: 1k, num network updates: 4, intrinsic method: None\n",
      "(1.0/5) Episode Score: 90, Train Loss: 311.83264\n",
      "(2.0/5) Episode Score: 245, Train Loss: 5.62023\n",
      "(3.0/5) Episode Score: 290, Train Loss: 27.85412\n",
      "(4.0/5) Episode Score: 70, Train Loss: 6.93439\n",
      "(5.0/5) Episode Score: 210, Train Loss: 144.98006\n",
      "Saved model at episode 5 as: 'dqn_batch32_SpaInv_ep5.pt'.\n",
      "Saved logger data to 'saved_models/dqn_SpaInv_logger_data.tar.gz'. Total size: 785 bytes\n",
      "Training complete. Access metrics from 'logger' attribute. "
     ]
    }
   ],
   "source": [
    "dqn2.train(num_episodes=5, print_every=1, save_count=5)"
   ]
  },
  {
   "cell_type": "code",
   "execution_count": 9,
   "id": "ea56055b-a0d3-4b58-9c5e-c74c3d1083d1",
   "metadata": {},
   "outputs": [
    {
     "data": {
      "text/plain": [
       "Available attributes: '['actions', 'train_losses', 'ep_scores']'"
      ]
     },
     "execution_count": 9,
     "metadata": {},
     "output_type": "execute_result"
    }
   ],
   "source": [
    "dqn.logger"
   ]
  },
  {
   "cell_type": "code",
   "execution_count": 10,
   "id": "e59db80a-3efa-4e8f-9053-24691b685117",
   "metadata": {},
   "outputs": [
    {
     "data": {
      "text/plain": [
       "[Counter({4: 386, 1: 421, 0: 420, 2: 392, 5: 404, 3: 453})]"
      ]
     },
     "execution_count": 10,
     "metadata": {},
     "output_type": "execute_result"
    }
   ],
   "source": [
    "dqn.logger.actions"
   ]
  },
  {
   "cell_type": "markdown",
   "id": "60affa60-f650-4b74-89de-d59f8a6b7b04",
   "metadata": {
    "tags": []
   },
   "source": [
    "### 2b. Rainbow Deep Q-Network (RDQN)"
   ]
  },
  {
   "cell_type": "code",
   "execution_count": 11,
   "id": "725535d6-9d22-4398-85fc-0ffb43650a3c",
   "metadata": {},
   "outputs": [],
   "source": [
    "# Create Rainbow DQN instance\n",
    "rainbow = create_model('rainbow', env=env2, device=device)"
   ]
  },
  {
   "cell_type": "code",
   "execution_count": 12,
   "id": "6aad46cd-adc2-4828-b283-2cd7fc2fbc3f",
   "metadata": {},
   "outputs": [
    {
     "data": {
      "text/plain": [
       "{'gym_name': 'ALE/Qbert-v5', 'name': 'Qbert', 'obs_space': Box(0, 255, (4, 84, 84), uint8), 'action_space': Discrete(6), 'input_shape': (4, 84, 84), 'n_actions': 6, 'img_size': 84, 'stack_size': 4, 'capture_video': False, 'record_every': 10000}"
      ]
     },
     "execution_count": 12,
     "metadata": {},
     "output_type": "execute_result"
    }
   ],
   "source": [
    "rainbow.env_details"
   ]
  },
  {
   "cell_type": "code",
   "execution_count": 13,
   "id": "f681e4b3-54d7-4fc8-91a3-69a7162f1f54",
   "metadata": {
    "tags": []
   },
   "outputs": [
    {
     "name": "stdout",
     "output_type": "stream",
     "text": [
      "Training agent on Qbert with 4 episodes.\n",
      "Buffer size: 1k, batch size: 32, max timesteps: 1k, num network updates: 4, replay period: 100.\n",
      "(1.0/4)  Episode Score: 0,   Train Loss: 3.56554,  Time taken: 3.86 secs.\n",
      "(2.0/4)  Episode Score: 225,   Train Loss: 3.73456,  Time taken: 5.76 secs.\n",
      "Saved model at episode 2 as: 'rainbow_batch32_buffer1000_Qbert_ep2.pt'.\n",
      "Saved logger data to 'saved_models/rainbow_Qbert_logger_data.tar.gz'. Total size: 602 bytes\n",
      "(3.0/4)  Episode Score: 50,   Train Loss: 3.21229,  Time taken: 4.72 secs.\n",
      "(4.0/4)  Episode Score: 150,   Train Loss: 3.10329,  Time taken: 5.28 secs.\n",
      "Saved model at episode 4 as: 'rainbow_batch32_buffer1000_Qbert_ep4.pt'.\n",
      "Saved logger data to 'saved_models/rainbow_Qbert_logger_data.tar.gz'. Total size: 657 bytes\n",
      "Training complete. Access metrics from 'logger' attribute. "
     ]
    }
   ],
   "source": [
    "# Train model\n",
    "rainbow.train(num_episodes=4, print_every=1, save_count=2)"
   ]
  },
  {
   "cell_type": "code",
   "execution_count": 14,
   "id": "689a2d12-602d-434c-a923-289196252790",
   "metadata": {},
   "outputs": [
    {
     "data": {
      "text/plain": [
       "Available attributes: '['avg_returns', 'actions', 'train_losses', 'ep_scores']'"
      ]
     },
     "execution_count": 14,
     "metadata": {},
     "output_type": "execute_result"
    }
   ],
   "source": [
    "rainbow.logger"
   ]
  },
  {
   "cell_type": "code",
   "execution_count": 15,
   "id": "f5013ad7-4a46-4ddb-89fd-6cac5a4f90f0",
   "metadata": {},
   "outputs": [
    {
     "data": {
      "text/plain": [
       "[Counter({4: 2793, 0: 298, 2: 1884, 5: 969, 3: 1108, 1: 52})]"
      ]
     },
     "execution_count": 15,
     "metadata": {},
     "output_type": "execute_result"
    }
   ],
   "source": [
    "rainbow.logger.actions"
   ]
  },
  {
   "cell_type": "markdown",
   "id": "76989e54-1c8d-47e2-b1b6-371b6f9cb4d5",
   "metadata": {},
   "source": [
    "### 2c. Proximal Policy Optimization (PPO)"
   ]
  },
  {
   "cell_type": "code",
   "execution_count": 16,
   "id": "b051aab5-79eb-42d2-8054-4384c256843f",
   "metadata": {},
   "outputs": [],
   "source": [
    "# Create PPO instance\n",
    "ppo = create_model('ppo', env=env3, device=device)"
   ]
  },
  {
   "cell_type": "code",
   "execution_count": 17,
   "id": "df8ae064-8fab-40ae-a0df-e1f20de41e81",
   "metadata": {},
   "outputs": [
    {
     "data": {
      "text/plain": [
       "{'gym_name': 'ALE/MontezumaRevenge-v5', 'name': 'MontezumaRevenge', 'obs_space': Box(0, 255, (4, 84, 84), uint8), 'action_space': Discrete(18), 'input_shape': (4, 84, 84), 'n_actions': 18, 'img_size': 84, 'stack_size': 4, 'capture_video': False, 'record_every': 10000}"
      ]
     },
     "execution_count": 17,
     "metadata": {},
     "output_type": "execute_result"
    }
   ],
   "source": [
    "ppo.env_details"
   ]
  },
  {
   "cell_type": "code",
   "execution_count": 19,
   "id": "9e0bec5f-9f1d-4402-97ba-985fa47d3017",
   "metadata": {},
   "outputs": [],
   "source": [
    "PPO_NUM_EPISODES = ppo.params.rollout_size * ppo.params.num_envs * NUM_EPISODES\n",
    "demo_episodes = int((PPO_NUM_EPISODES / NUM_EPISODES) * 4)"
   ]
  },
  {
   "cell_type": "code",
   "execution_count": 20,
   "id": "30ac281a-128b-474d-962f-580b1a400bb4",
   "metadata": {},
   "outputs": [
    {
     "name": "stdout",
     "output_type": "stream",
     "text": [
      "Training agent on MontezumaRevenge with 3K episodes.\n",
      "Surrogate clipping size: 0.1, rollout size: 100, num agents: 8, num network updates: 4, batch size: 800, training iterations: 4.\n",
      "(1.0/4) Episodic Return: -0.03268,  Approx KL: 0.00036,  Total Loss: -0.02980,  Policy Loss: -0.00095,  Value Loss: 0.00009,  Entropy Loss: 2.88944,  Time taken: 1.15 secs.\n",
      "(2.0/4) Episodic Return: -0.01729,  Approx KL: -0.00013,  Total Loss: -0.02926,  Policy Loss: -0.00038,  Value Loss: 0.00003,  Entropy Loss: 2.88919,  Time taken: 1.03 secs.\n",
      "Saved model at episode 2 as: 'ppo_rollout100_agents8_MonRev_ep2.pt'.\n",
      "Saved logger data to 'saved_models/ppo_MonRev_logger_data.tar.gz'. Total size: 767 bytes\n",
      "(3.0/4) Episodic Return: -0.00839,  Approx KL: -0.00035,  Total Loss: -0.02974,  Policy Loss: -0.00085,  Value Loss: 0.00001,  Entropy Loss: 2.88890,  Time taken: 1.16 secs.\n",
      "(4.0/4) Episodic Return: -0.00459,  Approx KL: 0.00026,  Total Loss: -0.02973,  Policy Loss: -0.00085,  Value Loss: 0.00001,  Entropy Loss: 2.88864,  Time taken: 1.10 secs.\n",
      "Saved model at episode 4 as: 'ppo_rollout100_agents8_MonRev_ep4.pt'.\n",
      "Saved logger data to 'saved_models/ppo_MonRev_logger_data.tar.gz'. Total size: 848 bytes\n",
      "Training complete. Access metrics from 'logger' attribute. "
     ]
    }
   ],
   "source": [
    "ppo.train(num_episodes=demo_episodes, print_every=1, save_count=2)  # 4 training iterations"
   ]
  },
  {
   "cell_type": "code",
   "execution_count": 21,
   "id": "85944b0b-ee91-448f-ac25-24973439e5d1",
   "metadata": {},
   "outputs": [
    {
     "data": {
      "text/plain": [
       "Available attributes: '['actions', 'avg_rewards', 'avg_returns', 'policy_losses', 'value_losses', 'entropy_losses', 'total_losses', 'approx_kl']'"
      ]
     },
     "execution_count": 21,
     "metadata": {},
     "output_type": "execute_result"
    }
   ],
   "source": [
    "ppo.logger"
   ]
  },
  {
   "cell_type": "code",
   "execution_count": 22,
   "id": "b8bae015-9472-4358-bb30-b05cc11d916f",
   "metadata": {},
   "outputs": [
    {
     "data": {
      "text/plain": [
       "[Counter({6: 712,\n",
       "          8: 792,\n",
       "          2: 740,\n",
       "          7: 740,\n",
       "          9: 688,\n",
       "          0: 664,\n",
       "          1: 712,\n",
       "          14: 600,\n",
       "          4: 812,\n",
       "          3: 796,\n",
       "          5: 836,\n",
       "          11: 676,\n",
       "          10: 620,\n",
       "          16: 700,\n",
       "          15: 748,\n",
       "          13: 612,\n",
       "          17: 724,\n",
       "          12: 628})]"
      ]
     },
     "execution_count": 22,
     "metadata": {},
     "output_type": "execute_result"
    }
   ],
   "source": [
    "ppo.logger.actions"
   ]
  },
  {
   "cell_type": "markdown",
   "id": "14e7141e-6cb6-478e-b444-00d616c2cb2b",
   "metadata": {},
   "source": [
    "## 3. Load Model"
   ]
  },
  {
   "cell_type": "code",
   "execution_count": null,
   "id": "f6cd90ef-06c6-4723-8a82-b95b0124634c",
   "metadata": {},
   "outputs": [],
   "source": [
    "# model = load_model('', device, 'dqn')"
   ]
  },
  {
   "cell_type": "code",
   "execution_count": null,
   "id": "b187de70-2602-488d-bb2f-7cca1c257787",
   "metadata": {},
   "outputs": [],
   "source": [
    "# video_render(model)"
   ]
  }
 ],
 "metadata": {
  "kernelspec": {
   "display_name": "rla2",
   "language": "python",
   "name": "rla2"
  },
  "language_info": {
   "codemirror_mode": {
    "name": "ipython",
    "version": 3
   },
   "file_extension": ".py",
   "mimetype": "text/x-python",
   "name": "python",
   "nbconvert_exporter": "python",
   "pygments_lexer": "ipython3",
   "version": "3.10.4"
  }
 },
 "nbformat": 4,
 "nbformat_minor": 5
}
