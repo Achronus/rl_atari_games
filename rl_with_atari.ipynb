{
 "cells": [
  {
   "cell_type": "markdown",
   "id": "ed87b53b-9602-4c27-ba3f-d9d40ff4279a",
   "metadata": {},
   "source": [
    "# Reinforcement Learning with Atari Games"
   ]
  },
  {
   "cell_type": "markdown",
   "id": "8a621639-4192-4fce-895e-14b335bfe7ff",
   "metadata": {},
   "source": [
    "## 1. Initial Setup"
   ]
  },
  {
   "cell_type": "code",
   "execution_count": 1,
   "id": "9380453d-9c2b-41fb-b9f3-b7d739143812",
   "metadata": {},
   "outputs": [],
   "source": [
    "from core.create import create_model, get_utility_params\n",
    "from utils.helper import set_device\n",
    "from utils.model_utils import load_model\n",
    "from utils.render import video_render"
   ]
  },
  {
   "cell_type": "code",
   "execution_count": 2,
   "id": "4292c565-0b2d-45ed-98bf-4b43d7cb5824",
   "metadata": {},
   "outputs": [
    {
     "name": "stdout",
     "output_type": "stream",
     "text": [
      "NUM_EPISODES=500000, SAVE_EVERY=5000\n"
     ]
    }
   ],
   "source": [
    "# Get utility parameters from yaml file\n",
    "util_params = get_utility_params()\n",
    "\n",
    "# Set them as hyperparameters\n",
    "NUM_EPISODES = util_params['num_episodes']\n",
    "SAVE_EVERY = util_params['save_every']\n",
    "print(f'NUM_EPISODES={NUM_EPISODES}, SAVE_EVERY={SAVE_EVERY}')"
   ]
  },
  {
   "cell_type": "code",
   "execution_count": 3,
   "id": "1e1030fb-367b-4956-a090-2ecfc8a80eb0",
   "metadata": {},
   "outputs": [
    {
     "name": "stdout",
     "output_type": "stream",
     "text": [
      "CUDA unavailable. Device set to CPU -> 'cpu'.\n"
     ]
    }
   ],
   "source": [
    "# Set CUDA device\n",
    "device = set_device()"
   ]
  },
  {
   "cell_type": "code",
   "execution_count": 4,
   "id": "cb40765c-056c-4a44-9638-18528853cb78",
   "metadata": {},
   "outputs": [
    {
     "name": "stdout",
     "output_type": "stream",
     "text": [
      "env2=ALE/Qbert-v5, env3=ALE/MontezumaRevenge-v5\n"
     ]
    }
   ],
   "source": [
    "env2 = util_params['env_2']\n",
    "env3 = util_params['env_3']\n",
    "print(f'env2={env2}, env3={env3}')"
   ]
  },
  {
   "cell_type": "markdown",
   "id": "0da63c80-1fd1-4579-b18a-d5fa6c20f1a0",
   "metadata": {},
   "source": [
    "## 2. Model Creation and Training"
   ]
  },
  {
   "cell_type": "markdown",
   "id": "a371fd8e-4667-4bd0-93f9-99770ce70873",
   "metadata": {
    "tags": []
   },
   "source": [
    "### 2a. Deep Q-Network (DQN)"
   ]
  },
  {
   "cell_type": "code",
   "execution_count": 5,
   "id": "b4d531e1-2dd7-4ffa-9e9a-3ae773844c4a",
   "metadata": {},
   "outputs": [
    {
     "name": "stderr",
     "output_type": "stream",
     "text": [
      "C:\\Users\\rpart\\anaconda3\\envs\\rlatari\\lib\\site-packages\\gym\\utils\\passive_env_checker.py:97: UserWarning: \u001b[33mWARN: We recommend you to use a symmetric and normalized Box action space (range=[-1, 1]) https://stable-baselines3.readthedocs.io/en/master/guide/rl_tips.html\u001b[0m\n",
      "  logger.warn(\n"
     ]
    }
   ],
   "source": [
    "# # Create DQN instance\n",
    "dqn = create_model('dqn', device=device, im_type='curiosity')\n",
    "dqn2 = create_model('dqn', device=device)\n",
    "dqn3 = create_model('dqn', device=device, im_type='empowerment')"
   ]
  },
  {
   "cell_type": "code",
   "execution_count": 6,
   "id": "9c75b7a4-5c68-4316-820a-b459ee30dafa",
   "metadata": {},
   "outputs": [
    {
     "data": {
      "text/plain": [
       "({'gym_name': 'ALE/SpaceInvaders-v5', 'name': 'SpaceInvaders', 'obs_space': Box(0, 255, (4, 84, 84), uint8), 'action_space': Discrete(6), 'input_shape': (4, 84, 84), 'n_actions': 6, 'img_size': 84, 'stack_size': 4, 'capture_video': False, 'record_every': 10000},\n",
       " {'gym_name': 'ALE/SpaceInvaders-v5', 'name': 'SpaceInvaders', 'obs_space': Box(0, 255, (4, 84, 84), uint8), 'action_space': Discrete(6), 'input_shape': (4, 84, 84), 'n_actions': 6, 'img_size': 84, 'stack_size': 4, 'capture_video': False, 'record_every': 10000},\n",
       " {'gym_name': 'ALE/SpaceInvaders-v5', 'name': 'SpaceInvaders', 'obs_space': Box(0, 255, (4, 84, 84), uint8), 'action_space': Discrete(6), 'input_shape': (4, 84, 84), 'n_actions': 6, 'img_size': 84, 'stack_size': 4, 'capture_video': False, 'record_every': 10000})"
      ]
     },
     "execution_count": 6,
     "metadata": {},
     "output_type": "execute_result"
    }
   ],
   "source": [
    "dqn.env_details, dqn2.env_details, dqn3.env_details"
   ]
  },
  {
   "cell_type": "code",
   "execution_count": 7,
   "id": "56824d63-5850-400d-ac3a-4684b378bbf2",
   "metadata": {},
   "outputs": [
    {
     "name": "stdout",
     "output_type": "stream",
     "text": [
      "Training agent on SpaceInvaders with 5 episodes.\n",
      "Buffer size: 100k, batch size: 32, max timesteps: 1k, num network updates: 4, intrinsic method: curiosity\n",
      "(1.0/5) Episode Score: 120,  Train Loss: 33715.38281,  Curiosity Loss: 3.38288,  Time taken: 20 secs.\n",
      "(2.0/5) Episode Score: 65,  Train Loss: 2834.34448,  Curiosity Loss: 3.38263,  Time taken: 24 secs.\n",
      "(3.0/5) Episode Score: 60,  Train Loss: 6212.41504,  Curiosity Loss: 3.37696,  Time taken: 19 secs.\n",
      "(4.0/5) Episode Score: 210,  Train Loss: 11405.25098,  Curiosity Loss: 3.37880,  Time taken: 26 secs.\n",
      "(5.0/5) Episode Score: 115,  Train Loss: 34.63552,  Curiosity Loss: 3.37863,  Time taken: 19 secs.\n",
      "Training complete. Access metrics from 'logger' attribute. "
     ]
    }
   ],
   "source": [
    "# # Train model\n",
    "dqn.train(num_episodes=5, print_every=1, save_count=10)"
   ]
  },
  {
   "cell_type": "code",
   "execution_count": 8,
   "id": "1d23ebf8-43b6-46e8-a14f-68c01e391598",
   "metadata": {},
   "outputs": [
    {
     "name": "stdout",
     "output_type": "stream",
     "text": [
      "Training agent on SpaceInvaders with 5 episodes.\n",
      "Buffer size: 100k, batch size: 32, max timesteps: 1k, num network updates: 4, intrinsic method: None\n",
      "(1.0/5) Episode Score: 10,  Train Loss: 10.83754,  Time taken: 4 secs.\n",
      "(2.0/5) Episode Score: 135,  Train Loss: 10441.08203,  Time taken: 10 secs.\n",
      "(3.0/5) Episode Score: 120,  Train Loss: 19689.09961,  Time taken: 10 secs.\n",
      "(4.0/5) Episode Score: 105,  Train Loss: 2231.62939,  Time taken: 8 secs.\n",
      "(5.0/5) Episode Score: 75,  Train Loss: 1471.75049,  Time taken: 6 secs.\n",
      "Training complete. Access metrics from 'logger' attribute. "
     ]
    }
   ],
   "source": [
    "dqn2.train(num_episodes=5, print_every=1, save_count=10)"
   ]
  },
  {
   "cell_type": "code",
   "execution_count": 9,
   "id": "59581597-64b7-4813-aed5-7e9cda820114",
   "metadata": {},
   "outputs": [
    {
     "name": "stdout",
     "output_type": "stream",
     "text": [
      "Training agent on SpaceInvaders with 5 episodes.\n",
      "Buffer size: 100k, batch size: 32, max timesteps: 1k, num network updates: 4, intrinsic method: empowerment\n",
      "(1.0/5) Episode Score: 215,  Train Loss: 20.10689,  Source Loss: 0.00024,  Forward Loss: 1.22751,  Time taken: 12 secs.\n",
      "(2.0/5) Episode Score: 120,  Train Loss: 20.15374,  Source Loss: 0.00016,  Forward Loss: 1.31044,  Time taken: 7 secs.\n",
      "(3.0/5) Episode Score: 125,  Train Loss: 3.03293,  Source Loss: 0.00010,  Forward Loss: 1.32907,  Time taken: 9 secs.\n",
      "(4.0/5) Episode Score: 210,  Train Loss: 26.67262,  Source Loss: 0.00007,  Forward Loss: 1.33250,  Time taken: 10 secs.\n",
      "(5.0/5) Episode Score: 100,  Train Loss: 0.21294,  Source Loss: 0.00005,  Forward Loss: 1.32392,  Time taken: 7 secs.\n",
      "Training complete. Access metrics from 'logger' attribute. "
     ]
    }
   ],
   "source": [
    "dqn3.train(num_episodes=5, print_every=1, save_count=10)"
   ]
  },
  {
   "cell_type": "code",
   "execution_count": 10,
   "id": "ea56055b-a0d3-4b58-9c5e-c74c3d1083d1",
   "metadata": {},
   "outputs": [
    {
     "data": {
      "text/plain": [
       "(Available attributes: '['actions', 'train_losses', 'ep_scores', 'intrinsic_losses']',\n",
       " Available attributes: '['actions', 'train_losses', 'ep_scores', 'intrinsic_losses']',\n",
       " Available attributes: '['actions', 'train_losses', 'ep_scores', 'intrinsic_losses']')"
      ]
     },
     "execution_count": 10,
     "metadata": {},
     "output_type": "execute_result"
    }
   ],
   "source": [
    "dqn.logger, dqn2.logger, dqn3.logger"
   ]
  },
  {
   "cell_type": "code",
   "execution_count": 11,
   "id": "e59db80a-3efa-4e8f-9053-24691b685117",
   "metadata": {},
   "outputs": [
    {
     "data": {
      "text/plain": [
       "([Counter({4: 390, 1: 394, 0: 414, 2: 391, 5: 371, 3: 384})],\n",
       " [Counter({1: 384, 4: 368, 2: 370, 3: 349, 5: 372, 0: 404})],\n",
       " [Counter({0: 417, 3: 387, 1: 383, 4: 426, 5: 465, 2: 441})])"
      ]
     },
     "execution_count": 11,
     "metadata": {},
     "output_type": "execute_result"
    }
   ],
   "source": [
    "dqn.logger.actions, dqn2.logger.actions, dqn3.logger.actions"
   ]
  },
  {
   "cell_type": "markdown",
   "id": "60affa60-f650-4b74-89de-d59f8a6b7b04",
   "metadata": {
    "tags": []
   },
   "source": [
    "### 2b. Rainbow Deep Q-Network (RDQN)"
   ]
  },
  {
   "cell_type": "code",
   "execution_count": 12,
   "id": "725535d6-9d22-4398-85fc-0ffb43650a3c",
   "metadata": {},
   "outputs": [],
   "source": [
    "# Create Rainbow DQN instance\n",
    "rainbow = create_model('rainbow', env=env2, device=device, im_type='curiosity')\n",
    "rainbow2 = create_model('rainbow', env=env2, device=device)\n",
    "rainbow3 = create_model('rainbow', env=env2, device=device, im_type='empowerment')"
   ]
  },
  {
   "cell_type": "code",
   "execution_count": 13,
   "id": "6aad46cd-adc2-4828-b283-2cd7fc2fbc3f",
   "metadata": {},
   "outputs": [
    {
     "data": {
      "text/plain": [
       "({'gym_name': 'ALE/Qbert-v5', 'name': 'Qbert', 'obs_space': Box(0, 255, (4, 84, 84), uint8), 'action_space': Discrete(6), 'input_shape': (4, 84, 84), 'n_actions': 6, 'img_size': 84, 'stack_size': 4, 'capture_video': False, 'record_every': 10000},\n",
       " {'gym_name': 'ALE/Qbert-v5', 'name': 'Qbert', 'obs_space': Box(0, 255, (4, 84, 84), uint8), 'action_space': Discrete(6), 'input_shape': (4, 84, 84), 'n_actions': 6, 'img_size': 84, 'stack_size': 4, 'capture_video': False, 'record_every': 10000},\n",
       " {'gym_name': 'ALE/Qbert-v5', 'name': 'Qbert', 'obs_space': Box(0, 255, (4, 84, 84), uint8), 'action_space': Discrete(6), 'input_shape': (4, 84, 84), 'n_actions': 6, 'img_size': 84, 'stack_size': 4, 'capture_video': False, 'record_every': 10000})"
      ]
     },
     "execution_count": 13,
     "metadata": {},
     "output_type": "execute_result"
    }
   ],
   "source": [
    "rainbow.env_details, rainbow2.env_details, rainbow3.env_details"
   ]
  },
  {
   "cell_type": "code",
   "execution_count": 14,
   "id": "f681e4b3-54d7-4fc8-91a3-69a7162f1f54",
   "metadata": {
    "tags": []
   },
   "outputs": [
    {
     "name": "stdout",
     "output_type": "stream",
     "text": [
      "Training agent on Qbert with 5 episodes.\n",
      "Buffer size: 100k, batch size: 32, max timesteps: 1k, num network updates: 4, replay period: 100, intrinsic method: curiosity.\n",
      "(1.0/5)  Episode Score: 0,  Train Loss: 7.45471,  Curiosity Loss: 3.54361,  Time taken: 15 secs.\n",
      "(2.0/5)  Episode Score: 200,  Train Loss: 7.36903,  Curiosity Loss: 3.54737,  Time taken: 19 secs.\n",
      "(3.0/5)  Episode Score: 0,  Train Loss: 7.33716,  Curiosity Loss: 3.54385,  Time taken: 17 secs.\n",
      "(4.0/5)  Episode Score: 0,  Train Loss: 7.12473,  Curiosity Loss: 3.54115,  Time taken: 18 secs.\n",
      "(5.0/5)  Episode Score: 125,  Train Loss: 7.11427,  Curiosity Loss: 3.54152,  Time taken: 15 secs.\n",
      "Training complete. Access metrics from 'logger' attribute. "
     ]
    }
   ],
   "source": [
    "# Train model\n",
    "rainbow.train(num_episodes=5, print_every=1, save_count=10)"
   ]
  },
  {
   "cell_type": "code",
   "execution_count": 15,
   "id": "0d03e319-49fd-419e-91b1-0c2e73747120",
   "metadata": {},
   "outputs": [
    {
     "name": "stdout",
     "output_type": "stream",
     "text": [
      "Training agent on Qbert with 5 episodes.\n",
      "Buffer size: 100k, batch size: 32, max timesteps: 1k, num network updates: 4, replay period: 100, intrinsic method: None.\n",
      "(1.0/5)  Episode Score: 0,  Train Loss: 3.86856,  Time taken: 7 secs.\n",
      "(2.0/5)  Episode Score: 125,  Train Loss: 3.72778,  Time taken: 9 secs.\n",
      "(3.0/5)  Episode Score: 25,  Train Loss: 2.64229,  Time taken: 7 secs.\n",
      "(4.0/5)  Episode Score: 125,  Train Loss: 1.57758,  Time taken: 8 secs.\n",
      "(5.0/5)  Episode Score: 200,  Train Loss: 3.34030,  Time taken: 8 secs.\n",
      "Training complete. Access metrics from 'logger' attribute. "
     ]
    }
   ],
   "source": [
    "rainbow2.train(num_episodes=5, print_every=1, save_count=10)"
   ]
  },
  {
   "cell_type": "code",
   "execution_count": 16,
   "id": "ef83f451-d57f-4467-89cc-f904edb15c83",
   "metadata": {},
   "outputs": [
    {
     "name": "stdout",
     "output_type": "stream",
     "text": [
      "Training agent on Qbert with 5 episodes.\n",
      "Buffer size: 100k, batch size: 32, max timesteps: 1k, num network updates: 4, replay period: 100, intrinsic method: empowerment.\n",
      "(1.0/5)  Episode Score: 175,  Train Loss: 3.89586,  Source Loss: 0.00147,  Forward Loss: 1.28909,  Time taken: 7 secs.\n",
      "(2.0/5)  Episode Score: 0,  Train Loss: 3.82982,  Source Loss: 0.00055,  Forward Loss: 1.16748,  Time taken: 5 secs.\n",
      "(3.0/5)  Episode Score: 250,  Train Loss: 3.53767,  Source Loss: 0.00024,  Forward Loss: 1.10967,  Time taken: 8 secs.\n",
      "(4.0/5)  Episode Score: 125,  Train Loss: 3.29969,  Source Loss: 0.00018,  Forward Loss: 1.11687,  Time taken: 8 secs.\n",
      "(5.0/5)  Episode Score: 200,  Train Loss: 2.16264,  Source Loss: 0.00015,  Forward Loss: 1.07415,  Time taken: 7 secs.\n",
      "Training complete. Access metrics from 'logger' attribute. "
     ]
    }
   ],
   "source": [
    "rainbow3.train(num_episodes=5, print_every=1, save_count=10)"
   ]
  },
  {
   "cell_type": "code",
   "execution_count": 17,
   "id": "689a2d12-602d-434c-a923-289196252790",
   "metadata": {},
   "outputs": [
    {
     "data": {
      "text/plain": [
       "(Available attributes: '['avg_returns', 'actions', 'train_losses', 'ep_scores', 'intrinsic_losses']',\n",
       " Available attributes: '['avg_returns', 'actions', 'train_losses', 'ep_scores', 'intrinsic_losses']',\n",
       " Available attributes: '['avg_returns', 'actions', 'train_losses', 'ep_scores', 'intrinsic_losses']')"
      ]
     },
     "execution_count": 17,
     "metadata": {},
     "output_type": "execute_result"
    }
   ],
   "source": [
    "rainbow.logger, rainbow2.logger, rainbow3.logger"
   ]
  },
  {
   "cell_type": "code",
   "execution_count": 18,
   "id": "f5013ad7-4a46-4ddb-89fd-6cac5a4f90f0",
   "metadata": {},
   "outputs": [
    {
     "data": {
      "text/plain": [
       "([Counter({4: 4205, 0: 178, 2: 1071, 5: 2550, 1: 485, 3: 87})],\n",
       " [Counter({4: 3558, 0: 163, 3: 1758, 2: 1997, 5: 1083, 1: 17})],\n",
       " [Counter({5: 3900, 3: 1199, 0: 1163, 1: 868, 2: 1787, 4: 747})])"
      ]
     },
     "execution_count": 18,
     "metadata": {},
     "output_type": "execute_result"
    }
   ],
   "source": [
    "rainbow.logger.actions, rainbow2.logger.actions, rainbow3.logger.actions"
   ]
  },
  {
   "cell_type": "markdown",
   "id": "76989e54-1c8d-47e2-b1b6-371b6f9cb4d5",
   "metadata": {},
   "source": [
    "### 2c. Proximal Policy Optimization (PPO)"
   ]
  },
  {
   "cell_type": "code",
   "execution_count": 19,
   "id": "b051aab5-79eb-42d2-8054-4384c256843f",
   "metadata": {},
   "outputs": [],
   "source": [
    "# Create PPO instance\n",
    "ppo = create_model('ppo', env=env3, device=device, im_type='curiosity')\n",
    "ppo2 = create_model('ppo', env='primary', device=device)\n",
    "ppo3 = create_model('ppo', env=env3, device=device, im_type='empowerment')"
   ]
  },
  {
   "cell_type": "code",
   "execution_count": 20,
   "id": "df8ae064-8fab-40ae-a0df-e1f20de41e81",
   "metadata": {},
   "outputs": [
    {
     "data": {
      "text/plain": [
       "({'gym_name': 'ALE/MontezumaRevenge-v5', 'name': 'MontezumaRevenge', 'obs_space': Box(0, 255, (4, 84, 84), uint8), 'action_space': Discrete(18), 'input_shape': (4, 84, 84), 'n_actions': 18, 'img_size': 84, 'stack_size': 4, 'capture_video': False, 'record_every': 10000},\n",
       " {'gym_name': 'ALE/SpaceInvaders-v5', 'name': 'SpaceInvaders', 'obs_space': Box(0, 255, (4, 84, 84), uint8), 'action_space': Discrete(6), 'input_shape': (4, 84, 84), 'n_actions': 6, 'img_size': 84, 'stack_size': 4, 'capture_video': False, 'record_every': 10000},\n",
       " {'gym_name': 'ALE/MontezumaRevenge-v5', 'name': 'MontezumaRevenge', 'obs_space': Box(0, 255, (4, 84, 84), uint8), 'action_space': Discrete(18), 'input_shape': (4, 84, 84), 'n_actions': 18, 'img_size': 84, 'stack_size': 4, 'capture_video': False, 'record_every': 10000})"
      ]
     },
     "execution_count": 20,
     "metadata": {},
     "output_type": "execute_result"
    }
   ],
   "source": [
    "ppo.env_details, ppo2.env_details, ppo3.env_details"
   ]
  },
  {
   "cell_type": "code",
   "execution_count": 21,
   "id": "30ac281a-128b-474d-962f-580b1a400bb4",
   "metadata": {},
   "outputs": [
    {
     "name": "stdout",
     "output_type": "stream",
     "text": [
      "Training agent on MontezumaRevenge with 200 episodes.\n",
      "Surrogate clipping size: 0.1, rollout size: 10, num environments: 4, num network updates: 4, batch size: 40, training iterations: 5, intrinsic method: curiosity.\n",
      "(1.0/5) Episode Score: 0.00,  Episodic Return: 0.05,  Approx KL: 0.006,  Total Loss: 7863.952,  Policy Loss: -0.001,  Value Loss: 5257.306,  Entropy Loss: 2.889,  Curiosity Loss: 5196.11914,  Time taken: 2 secs.\n",
      "(2.0/5) Episode Score: 0.00,  Episodic Return: 0.31,  Approx KL: 0.020,  Total Loss: 7919.022,  Policy Loss: -0.117,  Value Loss: 5311.103,  Entropy Loss: 2.851,  Curiosity Loss: 5283.39502,  Time taken: 1 secs.\n",
      "(3.0/5) Episode Score: 0.00,  Episodic Return: 2.32,  Approx KL: 2.133,  Total Loss: 7872.543,  Policy Loss: -0.245,  Value Loss: 5253.448,  Entropy Loss: 1.230,  Curiosity Loss: 5242.19043,  Time taken: 1 secs.\n",
      "(4.0/5) Episode Score: 0.00,  Episodic Return: 17.46,  Approx KL: -0.000,  Total Loss: 7663.472,  Policy Loss: 0.000,  Value Loss: 4947.017,  Entropy Loss: 0.000,  Curiosity Loss: 5209.09766,  Time taken: 1 secs.\n",
      "(5.0/5) Episode Score: 0.00,  Episodic Return: 62.67,  Approx KL: 0.000,  Total Loss: 7454.731,  Policy Loss: -0.000,  Value Loss: 4526.791,  Entropy Loss: 0.000,  Curiosity Loss: 5184.23389,  Time taken: 2 secs.\n",
      "Training complete. Access metrics from 'logger' attribute. "
     ]
    }
   ],
   "source": [
    "ppo.train(num_episodes=5, print_every=1, save_count=10)"
   ]
  },
  {
   "cell_type": "code",
   "execution_count": 22,
   "id": "c5cd5641-1511-4e96-9934-f9f4087f6ede",
   "metadata": {},
   "outputs": [
    {
     "name": "stdout",
     "output_type": "stream",
     "text": [
      "Training agent on SpaceInvaders with 200 episodes.\n",
      "Surrogate clipping size: 0.1, rollout size: 10, num environments: 4, num network updates: 4, batch size: 40, training iterations: 5, intrinsic method: None.\n",
      "(1.0/5) Episode Score: 0.00,  Episodic Return: 0.07,  Approx KL: -0.001,  Total Loss: -0.021,  Policy Loss: -0.003,  Value Loss: 0.000,  Entropy Loss: 1.791,  Time taken: 0 secs.\n",
      "(2.0/5) Episode Score: 0.00,  Episodic Return: 0.07,  Approx KL: -0.003,  Total Loss: -0.021,  Policy Loss: -0.003,  Value Loss: 0.000,  Entropy Loss: 1.790,  Time taken: 0 secs.\n",
      "(3.0/5) Episode Score: 0.00,  Episodic Return: 0.06,  Approx KL: 0.001,  Total Loss: -0.025,  Policy Loss: -0.007,  Value Loss: 0.000,  Entropy Loss: 1.788,  Time taken: 0 secs.\n",
      "(4.0/5) Episode Score: 0.00,  Episodic Return: 0.07,  Approx KL: -0.006,  Total Loss: -0.035,  Policy Loss: -0.017,  Value Loss: 0.000,  Entropy Loss: 1.775,  Time taken: 0 secs.\n",
      "(5.0/5) Episode Score: 0.00,  Episodic Return: 0.07,  Approx KL: 1.885,  Total Loss: -0.304,  Policy Loss: -0.294,  Value Loss: 0.000,  Entropy Loss: 0.993,  Time taken: 0 secs.\n",
      "Training complete. Access metrics from 'logger' attribute. "
     ]
    }
   ],
   "source": [
    "ppo2.train(num_episodes=5, print_every=1, save_count=10)"
   ]
  },
  {
   "cell_type": "code",
   "execution_count": 23,
   "id": "1dcc3d76-787b-4630-8ea1-53fb320e09a7",
   "metadata": {},
   "outputs": [
    {
     "name": "stdout",
     "output_type": "stream",
     "text": [
      "Training agent on MontezumaRevenge with 200 episodes.\n",
      "Surrogate clipping size: 0.1, rollout size: 10, num environments: 4, num network updates: 4, batch size: 40, training iterations: 5, intrinsic method: empowerment.\n",
      "(1.0/5) Episode Score: 0.00,  Episodic Return: 0.02,  Approx KL: 0.001,  Total Loss: -0.035,  Policy Loss: -0.006,  Value Loss: 0.000,  Entropy Loss: 2.882,  Source Loss: 0.19777,  Forward Loss: 1.30755,  Time taken: 0 secs.\n",
      "(2.0/5) Episode Score: 0.00,  Episodic Return: 0.03,  Approx KL: -0.002,  Total Loss: -0.035,  Policy Loss: -0.006,  Value Loss: 0.000,  Entropy Loss: 2.881,  Source Loss: 0.17730,  Forward Loss: 1.15840,  Time taken: 0 secs.\n",
      "(3.0/5) Episode Score: 0.00,  Episodic Return: 0.03,  Approx KL: -0.004,  Total Loss: -0.034,  Policy Loss: -0.006,  Value Loss: 0.000,  Entropy Loss: 2.879,  Source Loss: 0.10939,  Forward Loss: 1.07264,  Time taken: 0 secs.\n",
      "(4.0/5) Episode Score: 0.00,  Episodic Return: 0.03,  Approx KL: -0.001,  Total Loss: -0.034,  Policy Loss: -0.005,  Value Loss: 0.000,  Entropy Loss: 2.878,  Source Loss: 0.04407,  Forward Loss: 1.09403,  Time taken: 0 secs.\n",
      "(5.0/5) Episode Score: 0.00,  Episodic Return: 0.03,  Approx KL: -0.001,  Total Loss: -0.033,  Policy Loss: -0.005,  Value Loss: 0.000,  Entropy Loss: 2.879,  Source Loss: 0.02159,  Forward Loss: 1.19387,  Time taken: 0 secs.\n",
      "Training complete. Access metrics from 'logger' attribute. "
     ]
    }
   ],
   "source": [
    "ppo3.train(num_episodes=5, print_every=1, save_count=10)"
   ]
  },
  {
   "cell_type": "code",
   "execution_count": 24,
   "id": "85944b0b-ee91-448f-ac25-24973439e5d1",
   "metadata": {},
   "outputs": [
    {
     "data": {
      "text/plain": [
       "(Available attributes: '['actions', 'avg_returns', 'avg_rewards', 'policy_losses', 'value_losses', 'entropy_losses', 'total_losses', 'approx_kl', 'intrinsic_losses']',\n",
       " Available attributes: '['actions', 'avg_returns', 'avg_rewards', 'policy_losses', 'value_losses', 'entropy_losses', 'total_losses', 'approx_kl', 'intrinsic_losses']',\n",
       " Available attributes: '['actions', 'avg_returns', 'avg_rewards', 'policy_losses', 'value_losses', 'entropy_losses', 'total_losses', 'approx_kl', 'intrinsic_losses']')"
      ]
     },
     "execution_count": 24,
     "metadata": {},
     "output_type": "execute_result"
    }
   ],
   "source": [
    "ppo.logger, ppo2.logger, ppo3.logger"
   ]
  },
  {
   "cell_type": "code",
   "execution_count": 25,
   "id": "b8bae015-9472-4358-bb30-b05cc11d916f",
   "metadata": {},
   "outputs": [
    {
     "data": {
      "text/plain": [
       "([Counter({4: 44,\n",
       "           5: 24,\n",
       "           9: 44,\n",
       "           3: 32,\n",
       "           12: 24,\n",
       "           8: 16,\n",
       "           17: 40,\n",
       "           14: 20,\n",
       "           16: 28,\n",
       "           0: 16,\n",
       "           7: 20,\n",
       "           10: 36,\n",
       "           13: 20,\n",
       "           11: 16,\n",
       "           2: 20,\n",
       "           1: 28,\n",
       "           15: 8,\n",
       "           6: 364})],\n",
       " [Counter({5: 128, 3: 164, 1: 132, 4: 148, 0: 116, 2: 112})],\n",
       " [Counter({11: 60,\n",
       "           9: 52,\n",
       "           6: 32,\n",
       "           15: 36,\n",
       "           1: 64,\n",
       "           17: 56,\n",
       "           7: 60,\n",
       "           14: 28,\n",
       "           4: 76,\n",
       "           10: 60,\n",
       "           13: 48,\n",
       "           3: 60,\n",
       "           2: 24,\n",
       "           5: 28,\n",
       "           8: 40,\n",
       "           12: 40,\n",
       "           16: 20,\n",
       "           0: 16})])"
      ]
     },
     "execution_count": 25,
     "metadata": {},
     "output_type": "execute_result"
    }
   ],
   "source": [
    "ppo.logger.actions, ppo2.logger.actions, ppo3.logger.actions"
   ]
  },
  {
   "cell_type": "markdown",
   "id": "14e7141e-6cb6-478e-b444-00d616c2cb2b",
   "metadata": {},
   "source": [
    "## 3. Load Model"
   ]
  },
  {
   "cell_type": "code",
   "execution_count": 26,
   "id": "8853b5f0-4285-4320-94b2-8961a7632bc0",
   "metadata": {},
   "outputs": [],
   "source": [
    "from utils.render import video_render\n",
    "from utils.model_utils import load_model"
   ]
  },
  {
   "cell_type": "code",
   "execution_count": 29,
   "id": "f6cd90ef-06c6-4723-8a82-b95b0124634c",
   "metadata": {},
   "outputs": [],
   "source": [
    "# model = load_model('rainbowcuriosity_batch32_buffer1k_Qbert_ep5', 'cuda:0', 'rainbow')\n",
    "# model = load_model('dqncuriosity_batch32_SpaInv_ep5', 'cuda:0', 'dqn')\n",
    "# model = load_model('ppocuriosity_rollout100_agents8_MonRev_ep5', 'cuda:0', 'ppo')\n",
    "# model = load_model('ppo_rollout10_agents4_SpaInv_ep40k', 'cpu', 'ppo')"
   ]
  },
  {
   "cell_type": "code",
   "execution_count": 30,
   "id": "b187de70-2602-488d-bb2f-7cca1c257787",
   "metadata": {},
   "outputs": [],
   "source": [
    "# video_render(model, 1)"
   ]
  },
  {
   "cell_type": "code",
   "execution_count": null,
   "id": "0d5f4d11-d808-4e98-8ea7-79f97773a716",
   "metadata": {},
   "outputs": [],
   "source": []
  }
 ],
 "metadata": {
  "kernelspec": {
   "display_name": "rlatari",
   "language": "python",
   "name": "rlatari"
  },
  "language_info": {
   "codemirror_mode": {
    "name": "ipython",
    "version": 3
   },
   "file_extension": ".py",
   "mimetype": "text/x-python",
   "name": "python",
   "nbconvert_exporter": "python",
   "pygments_lexer": "ipython3",
   "version": "3.10.5"
  }
 },
 "nbformat": 4,
 "nbformat_minor": 5
}
